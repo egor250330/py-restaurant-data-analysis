{
 "cells": [
  {
   "cell_type": "code",
   "metadata": {
    "collapsed": true,
    "pycharm": {
     "name": "#%%\n"
    },
    "ExecuteTime": {
     "end_time": "2024-11-13T06:49:10.642902Z",
     "start_time": "2024-11-13T06:49:08.319048Z"
    }
   },
   "source": [
    "import pandas as pd\n",
    "import numpy as np\n",
    "import sqlite3\n",
    "import matplotlib.pyplot as plt"
   ],
   "outputs": [],
   "execution_count": 1
  },
  {
   "cell_type": "markdown",
   "source": [
    "# Task 0\n",
    "Data extraction: get the data from 3 tables & combine it into single `.csv` file.\n",
    "After that read this file using pandas to create Dataframe.\n",
    "So it will be all joined data in 1 dataframe. Quick check - should be 74818 rows in it."
   ],
   "metadata": {
    "collapsed": false,
    "pycharm": {
     "name": "#%% md\n"
    }
   }
  },
  {
   "cell_type": "code",
   "source": [
    "db_path = \"db.sqlite3\"\n",
    "connection = sqlite3.connect(db_path)\n",
    "\n",
    "query = \"\"\"\n",
    "    SELECT *\n",
    "    FROM restaurant_order\n",
    "    JOIN restaurant_orderitem ON restaurant_order.id = restaurant_orderitem.restaurant_order_id\n",
    "    JOIN restaurant_product ON restaurant_orderitem.id = restaurant_product.restaurant_orderitem_id\n",
    "\"\"\"\n",
    "data = pd.read_sql_query(query, connection)\n",
    "\n",
    "output_path = \"combined_data.csv\"\n",
    "data.to_csv(output_path, index=False)\n",
    "\n",
    "df = pd.read_csv(output_path)"
   ],
   "metadata": {
    "collapsed": false,
    "pycharm": {
     "name": "#%%\n"
    }
   },
   "outputs": [],
   "execution_count": null
  },
  {
   "cell_type": "markdown",
   "source": [
    "# Task 1\n",
    "Get Top 10 most popular products in restaurant sold by Quantity.\n",
    "Count how many times each product was sold and create a pie chart with percentage of popularity (by quantity) for top 10 of them.\n",
    "\n",
    "Example:\n",
    "\n",
    "![pie chart](../demo/pie.png)"
   ],
   "metadata": {
    "collapsed": false,
    "pycharm": {
     "name": "#%% md\n"
    }
   }
  },
  {
   "cell_type": "code",
   "execution_count": null,
   "outputs": [],
   "source": [
    "db_path = \"db.sqlite3\"\n",
    "connection = sqlite3.connect(db_path)\n",
    "\n",
    "query = \"\"\"\n",
    "    SELECT rp.name AS product_name, SUM(roi.quantity) AS total_quantity\n",
    "    FROM restaurant_order\n",
    "    JOIN restaurant_orderitem roi ON restaurant_order.id = roi.restaurant_order_id\n",
    "    JOIN restaurant_product rp ON roi.restaurant_product_id = rp.id\n",
    "    GROUP BY rp.name\n",
    "    ORDER BY total_quantity DESC\n",
    "    LIMIT 10\n",
    "\"\"\"\n",
    "\n",
    "data = pd.read_sql_query(query, connection)\n",
    "\n",
    "connection.close()\n",
    "\n",
    "output_path = \"top_10_products.csv\"\n",
    "data.to_csv(output_path, index=False)\n",
    "\n",
    "df = pd.read_csv(output_path)\n",
    "\n",
    "plt.figure(figsize=(8, 8))\n",
    "plt.pie(\n",
    "    df[\"total_quantity\"],\n",
    "    labels=df[\"product_name\"],\n",
    "    autopct='%.1f%%',\n",
    "    startangle=140\n",
    ")\n",
    "plt.title(\"Top-10 products\")\n",
    "plt.show()"
   ],
   "metadata": {
    "collapsed": false,
    "pycharm": {
     "name": "#%%\n"
    }
   }
  },
  {
   "cell_type": "markdown",
   "source": [
    "# Task 2\n",
    "Calculate `Item Price` (Product Price * Quantity) for each Order Item in dataframe.\n",
    "And Make the same Top 10 pie chart, but this time by `Item Price`. So this chart should describe not the most popular products by quantity, but which products (top 10) make the most money for restaurant. It should be also with percentage."
   ],
   "metadata": {
    "collapsed": false,
    "pycharm": {
     "name": "#%% md\n"
    }
   }
  },
  {
   "cell_type": "code",
   "execution_count": null,
   "outputs": [],
   "source": [
    "df['item_price'] = df['product_price'] * df['quantity']\n",
    "revenue_data = df.groupby('product_name', as_index=False)['item_price'].sum()\n",
    "top_10_revenue = revenue_data.sort_values(by='item_price', ascending=False).head(10)\n",
    "top_10_revenue.to_csv(\"top_10_revenue_products.csv\", index=False)\n",
    "\n",
    "plt.figure(figsize=(8, 8))\n",
    "plt.pie(\n",
    "    top_10_revenue[\"item_price\"],\n",
    "    labels=top_10_revenue[\"product_name\"],\n",
    "    autopct='%.1f%%',\n",
    "    startangle=140\n",
    ")\n",
    "plt.title(\"Top-10 Products by Revenue\")\n",
    "plt.show()\n"
   ],
   "metadata": {
    "collapsed": false,
    "pycharm": {
     "name": "#%%\n",
     "is_executing": true
    }
   }
  },
  {
   "cell_type": "markdown",
   "source": [
    "# Task 3\n",
    "Calculate `Order Hour` based on `Order Datetime`, which will tell about the specific our the order was created (from 0 to 23). Using `Order Hour` create a bar chart, which will tell the total restaurant income based on the hour order was created. So on x-axis - it will be values from 0 to 23 (hours), on y-axis - it will be the total sum of order prices, which were sold on that hour.\n",
    "\n",
    "Example:\n",
    "\n",
    "![bar chart](../demo/bar.png)"
   ],
   "metadata": {
    "collapsed": false,
    "pycharm": {
     "name": "#%% md\n"
    }
   }
  },
  {
   "cell_type": "code",
   "execution_count": null,
   "outputs": [],
   "source": [
    "df[\"order_hour\"] = pd.to_datetime(df[\"order_datetime\"]).dt.hour\n",
    "hourly_income = df.groupby(\"order_hour\", as_index=False)[\"item_price\"].sum()\n",
    "hourly_income = hourly_income.sort_values(by=\"order_hour\")\n",
    "\n",
    "plt.figure(figsize=(10, 6))\n",
    "plt.bar(hourly_income[\"order_hour\"], hourly_income[\"item_price\"], color=\"skyblue\")\n",
    "plt.xlabel(\"Hour of Day (0-23)\")\n",
    "plt.ylabel(\"Total Income\")\n",
    "plt.title(\"Total Restaurant Income by Order Hour\")\n",
    "plt.xticks(range(0, 24))\n",
    "plt.grid(axis=\"y\", linestyle=\"--\", alpha=0.7)\n",
    "plt.show()\n"
   ],
   "metadata": {
    "collapsed": false,
    "pycharm": {
     "name": "#%%\n"
    }
   }
  },
  {
   "cell_type": "markdown",
   "source": [
    "# Task 4\n",
    "Make similar bar chart, but right now with `Order Day Of The Week` (from Monday to Sunday), and also analyze total restaurant income by each day of the week."
   ],
   "metadata": {
    "collapsed": false,
    "pycharm": {
     "name": "#%% md\n"
    }
   }
  },
  {
   "cell_type": "code",
   "execution_count": null,
   "outputs": [],
   "source": [
    "df[\"order_day_of_week\"] = pd.to_datetime(df[\"order_datetime\"]).dt.day_name()\n",
    "weekly_income = df.groupby(\"order_day_of_week\", as_index=False)[\"item_price\"].sum()\n",
    "\n",
    "days_order = [\"Monday\", \"Tuesday\", \"Wednesday\", \"Thursday\", \"Friday\", \"Saturday\", \"Sunday\"]\n",
    "weekly_income[\"order_day_of_week\"] = pd.Categorical(weekly_income[\"order_day_of_week\"], categories=days_order, ordered=True)\n",
    "weekly_income = weekly_income.sort_values('order_day_of_week')\n",
    "\n",
    "plt.figure(figsize=(10, 6))\n",
    "plt.bar(weekly_income[\"order_day_of_week\"], weekly_income[\"item_price\"], color=\"lightcoral\")\n",
    "plt.xlabel(\"Day of the Week\")\n",
    "plt.ylabel(\"Total Income\")\n",
    "plt.title(\"Total Restaurant Income by Day of the Week\")\n",
    "plt.grid(axis=\"y\", linestyle=\"--\", alpha=0.7)\n",
    "plt.show()\n"
   ],
   "metadata": {
    "collapsed": false,
    "pycharm": {
     "name": "#%%\n"
    }
   }
  }
 ],
 "metadata": {
  "kernelspec": {
   "display_name": "Python 3",
   "language": "python",
   "name": "python3"
  },
  "language_info": {
   "codemirror_mode": {
    "name": "ipython",
    "version": 2
   },
   "file_extension": ".py",
   "mimetype": "text/x-python",
   "name": "python",
   "nbconvert_exporter": "python",
   "pygments_lexer": "ipython2",
   "version": "2.7.6"
  }
 },
 "nbformat": 4,
 "nbformat_minor": 0
}
